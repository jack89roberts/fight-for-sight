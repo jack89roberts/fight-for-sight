{
 "cells": [
  {
   "cell_type": "markdown",
   "metadata": {},
   "source": [
    "## Update Papers\n",
    "\n",
    "This notebook will get data on all Fight for Sight related papers, meaning papers that have \"Fight for Sight\", \"Iris Fund for Prevention of Blindness\", \"British Eye Research Foundation\" or \"Prevention of Blindness Research Fund\" either directly included as a grant agency or mentioned in the acknowledgements. \n",
    "\n",
    "The data is saved in the data/EPMC/ffs_papers.xlsx spreadsheet.\n",
    "\n",
    "To run the notebook go to Kernel -> Restart & Run All."
   ]
  },
  {
   "cell_type": "code",
   "execution_count": 1,
   "metadata": {
    "collapsed": true
   },
   "outputs": [],
   "source": [
    "import QueryEPMC\n",
    "from glob import glob"
   ]
  },
  {
   "cell_type": "code",
   "execution_count": 2,
   "metadata": {},
   "outputs": [
    {
     "name": "stdout",
     "output_type": "stream",
     "text": [
      "Querying EPMC...\n",
      "Querying page 1: 1573 hits total, 1000 in this page, 1000 collected so far.\n",
      "Querying page 2: 1573 hits total, 573 in this page, 1573 collected so far.\n",
      "Done.\n",
      "Processing Data...\n",
      "1 out of 2 : data/EPMC/json/ffs_papers/ffs_papers_page000001.json\n",
      "2 out of 2 : data/EPMC/json/ffs_papers/ffs_papers_page000002.json\n",
      "Done.\n"
     ]
    }
   ],
   "source": [
    "print('Querying EPMC...')\n",
    "\n",
    "query_str = QueryEPMC.build_field_OR_query(['GRANT_AGENCY',\n",
    "                                            'ACK_FUND'],\n",
    "                                           ['fight for sight',\n",
    "                                            'iris fund for prevention of blindness',\n",
    "                                            'british eye research foundation',\n",
    "                                            'prevention of blindness research fund'])\n",
    "\n",
    "QueryEPMC.query_all_pages(query_str,\n",
    "                          save_name='ffs_papers', \n",
    "                          save_dir='data/EPMC/json/ffs_papers')\n",
    "\n",
    "print('Done.')\n",
    "\n",
    "print('Processing Data...')\n",
    "\n",
    "json_paths = glob('data/EPMC/json/ffs_papers/*.json')\n",
    "\n",
    "df = QueryEPMC.combine_jsons_to_df(json_paths)\n",
    "\n",
    "df.to_excel('data/EPMC/ffs_papers.xlsx', index=False)\n",
    "df.to_pickle('data/EPMC/ffs_papers.pkl')\n",
    "\n",
    "print('Done.')"
   ]
  }
 ],
 "metadata": {
  "kernelspec": {
   "display_name": "Python 3",
   "language": "python",
   "name": "python3"
  },
  "language_info": {
   "codemirror_mode": {
    "name": "ipython",
    "version": 3
   },
   "file_extension": ".py",
   "mimetype": "text/x-python",
   "name": "python",
   "nbconvert_exporter": "python",
   "pygments_lexer": "ipython3",
   "version": "3.6.3"
  }
 },
 "nbformat": 4,
 "nbformat_minor": 2
}
