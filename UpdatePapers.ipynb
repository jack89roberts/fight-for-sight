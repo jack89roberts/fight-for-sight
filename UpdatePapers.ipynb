{
 "cells": [
  {
   "cell_type": "markdown",
   "metadata": {},
   "source": [
    "## Update Papers\n",
    "\n",
    "This notebook will get data on all Fight for Sight related papers, meaning papers that have \"Fight for Sight\", \"Iris Fund for Prevention of Blindness\", \"British Eye Research Foundation\" or \"Prevention of Blindness Research Fund\" either directly included as a grant agency or mentioned in the acknowledgements. \n",
    "\n",
    "The data is saved in the data/EPMC/ffs_papers.xlsx spreadsheet.\n",
    "\n",
    "To run the notebook go to Kernel -> Restart & Run All."
   ]
  },
  {
   "cell_type": "code",
   "execution_count": 3,
   "metadata": {},
   "outputs": [],
   "source": [
    "import QueryEPMC\n",
    "from glob import glob"
   ]
  },
  {
   "cell_type": "code",
   "execution_count": 4,
   "metadata": {},
   "outputs": [
    {
     "name": "stdout",
     "output_type": "stream",
     "text": [
      "Querying EPMC...\n",
      "GRANT_AGENCY:\"fight for sight\" OR ACK_FUND:\"fight for sight\" OR GRANT_AGENCY:\"iris fund for prevention of blindness\" OR ACK_FUND:\"iris fund for prevention of blindness\" OR GRANT_AGENCY:\"british eye research foundation\" OR ACK_FUND:\"british eye research foundation\" OR GRANT_AGENCY:\"prevention of blindness research fund\" OR ACK_FUND:\"prevention of blindness research fund\"\n",
      "Querying page 1: 1600 hits total, 1000 in this page, 1000 collected so far.\n",
      "Querying page 2: 1600 hits total, 600 in this page, 1600 collected so far.\n",
      "Done.\n",
      "Processing Data...\n",
      "1 out of 2 : data/EPMC/json/ffs_papers\\ffs_papers_page000001.json\n",
      "2 out of 2 : data/EPMC/json/ffs_papers\\ffs_papers_page000002.json\n",
      "Done.\n"
     ]
    }
   ],
   "source": [
    "print('Querying EPMC...')\n",
    "\n",
    "query_str = QueryEPMC.build_field_OR_query(['GRANT_AGENCY',\n",
    "                                            'ACK_FUND'],\n",
    "                                           ['fight for sight',\n",
    "                                            'iris fund for prevention of blindness',\n",
    "                                            'british eye research foundation',\n",
    "                                            'prevention of blindness research fund'])\n",
    "\n",
    "print(query_str)\n",
    "\n",
    "QueryEPMC.query_all_pages(query_str,\n",
    "                          save_name='ffs_papers', \n",
    "                          save_dir='data/EPMC/json/ffs_papers')\n",
    "\n",
    "print('Done.')\n",
    "\n",
    "print('Processing Data...')\n",
    "\n",
    "json_paths = glob('data/EPMC/json/ffs_papers/*.json')\n",
    "\n",
    "df = QueryEPMC.combine_jsons_to_df(json_paths)\n",
    "\n",
    "df.to_excel('data/EPMC/ffs_papers.xlsx', index=False)\n",
    "df.to_pickle('data/EPMC/ffs_papers.pkl')\n",
    "\n",
    "print('Done.')"
   ]
  }
 ],
 "metadata": {
  "kernelspec": {
   "display_name": "Python 3",
   "language": "python",
   "name": "python3"
  },
  "language_info": {
   "codemirror_mode": {
    "name": "ipython",
    "version": 3
   },
   "file_extension": ".py",
   "mimetype": "text/x-python",
   "name": "python",
   "nbconvert_exporter": "python",
   "pygments_lexer": "ipython3",
   "version": "3.6.8"
  }
 },
 "nbformat": 4,
 "nbformat_minor": 2
}
