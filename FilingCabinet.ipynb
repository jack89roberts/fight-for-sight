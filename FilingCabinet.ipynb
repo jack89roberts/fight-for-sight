{
 "cells": [
  {
   "cell_type": "code",
   "execution_count": 1,
   "metadata": {},
   "outputs": [],
   "source": [
    "import pandas as pd\n",
    "import numpy as np\n",
    "import MatchIDs"
   ]
  },
  {
   "cell_type": "code",
   "execution_count": 2,
   "metadata": {},
   "outputs": [
    {
     "data": {
      "text/html": [
       "<div>\n",
       "<style scoped>\n",
       "    .dataframe tbody tr th:only-of-type {\n",
       "        vertical-align: middle;\n",
       "    }\n",
       "\n",
       "    .dataframe tbody tr th {\n",
       "        vertical-align: top;\n",
       "    }\n",
       "\n",
       "    .dataframe thead th {\n",
       "        text-align: right;\n",
       "    }\n",
       "</style>\n",
       "<table border=\"1\" class=\"dataframe\">\n",
       "  <thead>\n",
       "    <tr style=\"text-align: right;\">\n",
       "      <th></th>\n",
       "      <th>Shelf</th>\n",
       "      <th>Folder</th>\n",
       "      <th>Scan Name</th>\n",
       "      <th>Date Range</th>\n",
       "      <th>Award Holder</th>\n",
       "      <th>Award Type</th>\n",
       "      <th>Title of Project</th>\n",
       "      <th>Archive Box Number</th>\n",
       "    </tr>\n",
       "    <tr>\n",
       "      <th>Reference Number</th>\n",
       "      <th></th>\n",
       "      <th></th>\n",
       "      <th></th>\n",
       "      <th></th>\n",
       "      <th></th>\n",
       "      <th></th>\n",
       "      <th></th>\n",
       "      <th></th>\n",
       "    </tr>\n",
       "  </thead>\n",
       "  <tbody>\n",
       "    <tr>\n",
       "      <th>22020</th>\n",
       "      <td>A</td>\n",
       "      <td>1</td>\n",
       "      <td>22020 - Snead</td>\n",
       "      <td>1995-1998</td>\n",
       "      <td>Snead</td>\n",
       "      <td>Project Grant</td>\n",
       "      <td>Research Grant into Molecular Genetic Analysis...</td>\n",
       "      <td>2018-001</td>\n",
       "    </tr>\n",
       "    <tr>\n",
       "      <th>Jeanine</th>\n",
       "      <td>A</td>\n",
       "      <td>2</td>\n",
       "      <td>Jeanine Saba</td>\n",
       "      <td>1995-1998</td>\n",
       "      <td>Saba</td>\n",
       "      <td>PhD Studentship</td>\n",
       "      <td>The Development of Anti-Tumour T-Cell Immunity...</td>\n",
       "      <td>2018-001</td>\n",
       "    </tr>\n",
       "    <tr>\n",
       "      <th>IG 9803</th>\n",
       "      <td>A</td>\n",
       "      <td>4</td>\n",
       "      <td>IG 9803</td>\n",
       "      <td>1998-1999</td>\n",
       "      <td>George</td>\n",
       "      <td>Project Grant</td>\n",
       "      <td>Electrophysiological testing of visually impai...</td>\n",
       "      <td>2018-001</td>\n",
       "    </tr>\n",
       "    <tr>\n",
       "      <th>Roy Quinlan</th>\n",
       "      <td>A</td>\n",
       "      <td>7</td>\n",
       "      <td>Roy Quinlan and Chris Gribbon</td>\n",
       "      <td>1996-1997</td>\n",
       "      <td>Chris Gribbon</td>\n",
       "      <td>PhD Studentship</td>\n",
       "      <td>The relationship of apoptosis in human lens ep...</td>\n",
       "      <td>2018-001</td>\n",
       "    </tr>\n",
       "    <tr>\n",
       "      <th>IG 9807</th>\n",
       "      <td>A</td>\n",
       "      <td>11</td>\n",
       "      <td>IG 9807</td>\n",
       "      <td>1998-1999</td>\n",
       "      <td>Bremner</td>\n",
       "      <td>Project Grant</td>\n",
       "      <td>A comparison of visual and papillary dysfuncti...</td>\n",
       "      <td>2018-001</td>\n",
       "    </tr>\n",
       "  </tbody>\n",
       "</table>\n",
       "</div>"
      ],
      "text/plain": [
       "                 Shelf Folder                      Scan Name Date Range  \\\n",
       "Reference Number                                                          \n",
       "22020                A      1                  22020 - Snead  1995-1998   \n",
       "Jeanine              A      2                   Jeanine Saba  1995-1998   \n",
       "IG 9803              A      4                        IG 9803  1998-1999   \n",
       "Roy Quinlan          A      7  Roy Quinlan and Chris Gribbon  1996-1997   \n",
       "IG 9807              A     11                        IG 9807  1998-1999   \n",
       "\n",
       "                   Award Holder       Award Type  \\\n",
       "Reference Number                                   \n",
       "22020                     Snead    Project Grant   \n",
       "Jeanine                    Saba  PhD Studentship   \n",
       "IG 9803                  George    Project Grant   \n",
       "Roy Quinlan       Chris Gribbon  PhD Studentship   \n",
       "IG 9807                 Bremner    Project Grant   \n",
       "\n",
       "                                                   Title of Project  \\\n",
       "Reference Number                                                      \n",
       "22020             Research Grant into Molecular Genetic Analysis...   \n",
       "Jeanine           The Development of Anti-Tumour T-Cell Immunity...   \n",
       "IG 9803           Electrophysiological testing of visually impai...   \n",
       "Roy Quinlan       The relationship of apoptosis in human lens ep...   \n",
       "IG 9807           A comparison of visual and papillary dysfuncti...   \n",
       "\n",
       "                 Archive Box Number  \n",
       "Reference Number                     \n",
       "22020                      2018-001  \n",
       "Jeanine                    2018-001  \n",
       "IG 9803                    2018-001  \n",
       "Roy Quinlan                2018-001  \n",
       "IG 9807                    2018-001  "
      ]
     },
     "execution_count": 2,
     "metadata": {},
     "output_type": "execute_result"
    }
   ],
   "source": [
    "filing = pd.read_excel('data/FilingCabinet/Filing Cabinet - Joanne.xlsx')\n",
    "\n",
    "filing['Reference Number'] = filing['Reference Number'].astype(str)\n",
    "filing = filing[filing['Reference Number']!='Reference Number']\n",
    "filing['Reference Number'] = filing['Reference Number'].str.replace('-','/')\n",
    "filing['Reference Number'] = filing['Reference Number'].str.strip()\n",
    "filing = filing[~filing['Reference Number'].isnull()]\n",
    "filing.drop_duplicates(subset=['Reference Number'],keep=False,inplace=True)\n",
    "\n",
    "filing.set_index('Reference Number',inplace=True)\n",
    "\n",
    "filing.head()"
   ]
  },
  {
   "cell_type": "code",
   "execution_count": 3,
   "metadata": {},
   "outputs": [
    {
     "name": "stdout",
     "output_type": "stream",
     "text": [
      "Found 83 matches in master.\n",
      "86 grants were not found in master:\n",
      "['0406', '0407', '0408', '0504', '0507', '1371/72', '1432', '1436', '1439', '1440/1441', '1442', '1447', '1606', '1609', '1612', '1615', '1618', '1621', '1627', '1630', '1633', '1636/1637', '1639', '1655', '1658', '1662', '1670', '1679', '1685', '1688', '17', '1751', '1863', '1864', '1924', '1926', '1933 (1932)', '1935', '1950', '1953/1954 IG 0503', '1955', '1958', '1965', '1967', '2 sections', '20500', '22020', '24OVU12', '6', '7', '9', 'B1', 'B5', 'BEG 0404', 'C3', 'C8', 'IF 0002', 'IF 0206', 'IF 0303', 'IF 9801', 'IG 0001', 'IG 0003', 'IG 0004', 'IG 0005', 'IG 0101', 'IG 0102', 'IG 0103', 'IG 0107', 'IG 0202', 'IG 9802', 'IG 9803', 'IG 9804', 'IG 9805', 'IG 9806', 'IG 9807', 'IG 9901', 'IG 9902', 'IG 9905', 'IG 9906', 'IG 9907', 'IG 9908', 'IG 9909', 'James', 'Jeanine', 'Roy Quinlan', 'T H']\n"
     ]
    }
   ],
   "source": [
    "filing = MatchIDs.find_matches_in_master(filing)"
   ]
  },
  {
   "cell_type": "code",
   "execution_count": 4,
   "metadata": {},
   "outputs": [],
   "source": [
    "filing.drop_duplicates(subset='MasterID',keep=False,inplace=True)\n",
    "filing = filing.reset_index().set_index('MasterID')\n",
    "filing.to_excel('data/FilingCabinet/FilingCabinet_processed.xlsx')"
   ]
  }
 ],
 "metadata": {
  "kernelspec": {
   "display_name": "Python [conda env:Python3]",
   "language": "python",
   "name": "conda-env-Python3-py"
  },
  "language_info": {
   "codemirror_mode": {
    "name": "ipython",
    "version": 3
   },
   "file_extension": ".py",
   "mimetype": "text/x-python",
   "name": "python",
   "nbconvert_exporter": "python",
   "pygments_lexer": "ipython3",
   "version": "3.6.6"
  }
 },
 "nbformat": 4,
 "nbformat_minor": 2
}
