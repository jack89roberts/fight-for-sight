{
 "cells": [
  {
   "cell_type": "code",
   "execution_count": 1,
   "metadata": {},
   "outputs": [],
   "source": [
    "import pandas as pd\n",
    "import networkx as nx\n",
    "\n",
    "import matplotlib.pyplot as plt\n",
    "%matplotlib inline"
   ]
  },
  {
   "cell_type": "code",
   "execution_count": 2,
   "metadata": {},
   "outputs": [],
   "source": [
    "citations = pd.read_pickle('data/EPMC/all_paper_citation_ids.pkl')\n",
    "is_cited = citations.notna()"
   ]
  },
  {
   "cell_type": "code",
   "execution_count": 5,
   "metadata": {},
   "outputs": [],
   "source": [
    "ffs = pd.read_pickle('data/EPMC/ffs_or_predecessors.pkl')\n",
    "ffs.pmid\n",
    "\n",
    "citations = citations[citations.index.isin(ffs.pmid)]"
   ]
  },
  {
   "cell_type": "code",
   "execution_count": 6,
   "metadata": {},
   "outputs": [],
   "source": [
    "G = nx.DiGraph()\n",
    "G.add_nodes_from(citations.index)\n",
    "\n",
    "for parent in citations.index:\n",
    "    G.add_node(parent)\n",
    "    if is_cited[parent]:\n",
    "        for child in citations[parent]:\n",
    "            G.add_edge(parent,child)\n",
    "\n",
    "nx.write_graphml(G,'data/graph.graphml')\n",
    "#plt.figure(figsize=(15,15))\n",
    "#nx.draw_kamada_kawai(G, with_labels=False)"
   ]
  },
  {
   "cell_type": "code",
   "execution_count": null,
   "metadata": {},
   "outputs": [],
   "source": []
  }
 ],
 "metadata": {
  "kernelspec": {
   "display_name": "Python [conda env:Python3]",
   "language": "python",
   "name": "conda-env-Python3-py"
  },
  "language_info": {
   "codemirror_mode": {
    "name": "ipython",
    "version": 3
   },
   "file_extension": ".py",
   "mimetype": "text/x-python",
   "name": "python",
   "nbconvert_exporter": "python",
   "pygments_lexer": "ipython3",
   "version": "3.6.6"
  }
 },
 "nbformat": 4,
 "nbformat_minor": 2
}
