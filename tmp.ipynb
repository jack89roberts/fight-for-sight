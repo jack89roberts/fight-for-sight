{
 "cells": [
  {
   "cell_type": "code",
   "execution_count": 1,
   "metadata": {
    "scrolled": true
   },
   "outputs": [
    {
     "data": {
      "text/plain": [
       "pmid\n",
       "30209082    ass prevalence cause vision impairment north a...\n",
       "29781739    developed country genetically inherited eye di...\n",
       "30092731    systemic autoimmune disease associated ocular ...\n",
       "30096011    ass prevalence ocular manifestation related di...\n",
       "30270476    optical coherence tomography oct provides non ...\n",
       "Name: abstractText, dtype: object"
      ]
     },
     "execution_count": 1,
     "metadata": {},
     "output_type": "execute_result"
    }
   ],
   "source": [
    "import pandas as pd\n",
    "df = pd.read_pickle('data/EPMC/eye_in_new_keywords_ABSTRACTS_LEMMA.pkl')\n",
    "df.head()"
   ]
  },
  {
   "cell_type": "code",
   "execution_count": 24,
   "metadata": {},
   "outputs": [
    {
     "data": {
      "text/plain": [
       "'intraocular pressure iop highly heritable risk factor primary open angle glaucoma target current glaucoma therapy genetic factor determine iop largely unknown performed genome wide association study iop participant independent population based study netherlands replicated finding participant additional cohort uk australia canada wellcome trust case control consortium blue mountain eye study iop significantly associated located gas located tmco meta analysis case control study total glaucoma case variant also showed evidence association glaucoma gas tmco highly expressed ciliary body trabecular meshwork well lamina cribrosa optic nerve retina gene functionally interact known glaucoma disease gene data suggest identified two clinically relevant gene involved iop regulation'"
      ]
     },
     "execution_count": 24,
     "metadata": {},
     "output_type": "execute_result"
    }
   ],
   "source": [
    "df['22570627']"
   ]
  },
  {
   "cell_type": "code",
   "execution_count": 6,
   "metadata": {},
   "outputs": [],
   "source": [
    "from sklearn.externals import joblib\n",
    "countvec = joblib.load('models/sklearn/CountVec.joblib')\n"
   ]
  },
  {
   "cell_type": "code",
   "execution_count": 23,
   "metadata": {},
   "outputs": [
    {
     "data": {
      "text/plain": [
       "'intraocular pressure iop highly heritable risk factor primary open angle glaucoma target current glaucoma therapy genetic factor determine iop largely unknown performed genome wide association iop participant independent population based netherlands replicated finding participant additional cohort uk australia canada trust control consortium blue mountain iop significantly located gas located meta analysis control total glaucoma variant showed evidence association glaucoma gas highly expressed ciliary body trabecular meshwork lamina cribrosa optic nerve retina gene functionally interact known glaucoma gene data suggest identified clinically relevant gene involved iop regulation'"
      ]
     },
     "execution_count": 23,
     "metadata": {},
     "output_type": "execute_result"
    }
   ],
   "source": [
    "' '.join([word for word in df['22570627'].split() if word in countvec.vocabulary_])"
   ]
  },
  {
   "cell_type": "code",
   "execution_count": 25,
   "metadata": {},
   "outputs": [
    {
     "data": {
      "text/plain": [
       "27509"
      ]
     },
     "execution_count": 25,
     "metadata": {},
     "output_type": "execute_result"
    }
   ],
   "source": [
    "len(countvec.vocabulary_)"
   ]
  }
 ],
 "metadata": {
  "kernelspec": {
   "display_name": "Python [conda env:Python3]",
   "language": "python",
   "name": "conda-env-Python3-py"
  },
  "language_info": {
   "codemirror_mode": {
    "name": "ipython",
    "version": 3
   },
   "file_extension": ".py",
   "mimetype": "text/x-python",
   "name": "python",
   "nbconvert_exporter": "python",
   "pygments_lexer": "ipython3",
   "version": "3.6.6"
  }
 },
 "nbformat": 4,
 "nbformat_minor": 2
}
