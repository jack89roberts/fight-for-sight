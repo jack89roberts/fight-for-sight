{
 "cells": [
  {
   "cell_type": "markdown",
   "metadata": {},
   "source": [
    "Data extracted from CC Grant Tracker:\n",
    "\n",
    "* Login to CC Grant Tracker\n",
    "* Grants tab\n",
    "* Export tab (next to Search and Saved Filters)\n",
    "* export... button\n",
    "* Tick \"Strip HTML formatting from output\"\n",
    "* export and save file to data/CCGrantTracker\n",
    "\n",
    "File name must start with export_grants and be of type .xlsx"
   ]
  },
  {
   "cell_type": "code",
   "execution_count": 1,
   "metadata": {},
   "outputs": [],
   "source": [
    "import numpy as np\n",
    "import pandas as pd\n",
    "import glob\n",
    "from fuzzywuzzy import process"
   ]
  },
  {
   "cell_type": "code",
   "execution_count": 2,
   "metadata": {},
   "outputs": [
    {
     "name": "stdout",
     "output_type": "stream",
     "text": [
      "<class 'pandas.core.frame.DataFrame'>\n",
      "RangeIndex: 73 entries, 0 to 72\n",
      "Data columns (total 24 columns):\n",
      "Reference                       73 non-null object\n",
      "Lead Applicant Full Name        73 non-null object\n",
      "Lead Applicant Email            73 non-null object\n",
      "Title                           73 non-null object\n",
      "Status                          73 non-null object\n",
      "Outcome                         0 non-null object\n",
      "Sus                             73 non-null object\n",
      "Round                           73 non-null object\n",
      "Organisation                    73 non-null object\n",
      "Type                            73 non-null object\n",
      "Rejection Source                0 non-null object\n",
      "Total Requested                 73 non-null float64\n",
      "Award Date                      73 non-null datetime64[ns]\n",
      "Finance Reference               0 non-null float64\n",
      "Current Award                   0 non-null float64\n",
      "Start Date                      73 non-null datetime64[ns]\n",
      "End Date                        73 non-null datetime64[ns]\n",
      "Grant Manager                   0 non-null float64\n",
      "Synopsis                        73 non-null object\n",
      "Lay Summary                     29 non-null object\n",
      "Team                            0 non-null float64\n",
      "Last Status Change On           73 non-null datetime64[ns]\n",
      "External Reference              0 non-null float64\n",
      "Has Unvalidated Organisation    73 non-null object\n",
      "dtypes: datetime64[ns](4), float64(6), object(14)\n",
      "memory usage: 13.8+ KB\n"
     ]
    }
   ],
   "source": [
    "grants_file = glob.glob('data/CCGrantTracker/export_grants*.xlsx')[0]\n",
    "ccgt = pd.read_excel(grants_file)\n",
    "\n",
    "# only consider approved grants\n",
    "ccgt = ccgt[ccgt.Status=='Approved']\n",
    "ccgt.reset_index(inplace=True,drop=True)\n",
    "\n",
    "ccgt.info()"
   ]
  },
  {
   "cell_type": "code",
   "execution_count": 3,
   "metadata": {},
   "outputs": [],
   "source": [
    "master = pd.read_excel('data/Award Holders Master.xlsx')"
   ]
  },
  {
   "cell_type": "code",
   "execution_count": 4,
   "metadata": {},
   "outputs": [
    {
     "name": "stdout",
     "output_type": "stream",
     "text": [
      "64 titles from ccgt match award master spreadsheet.\n",
      "9 entries without match.\n"
     ]
    }
   ],
   "source": [
    "# exact title matches (excluding spaces)\n",
    "ccgt['MasterID'] = np.nan\n",
    "\n",
    "title_in_master = ccgt.Title.str.replace(' ','').isin(master['Project Title'].str.replace(' ',''))\n",
    "\n",
    "for row in ccgt[title_in_master].index:\n",
    "    ccgt.loc[row,'MasterID'] = master.loc[master['Project Title'].str.replace(' ','')==ccgt.loc[row,'Title'].replace(' ',''),'Grant Ref Unique'].iloc[0]\n",
    "\n",
    "print(sum(title_in_master),'titles from ccgt match award master spreadsheet.')\n",
    "print(sum(~title_in_master),'entries without match.')"
   ]
  },
  {
   "cell_type": "code",
   "execution_count": 5,
   "metadata": {},
   "outputs": [
    {
     "name": "stdout",
     "output_type": "stream",
     "text": [
      "CCGT: Exploring the molecular mechanisms of Aldehyde dehydrogenase (ALDH)/Retinoic acid (RA)-mediated extracellular matrix production in activated mucous membrane pemphigoid (MMP) conjunctival fibroblasts.\n",
      "Master: Exploring the molecular mechanisms of Aldehyde dehydrogenase (ALDH)/Retinoic acid (RA)-mediated extracellular matrix production in activated mucous membrane pemphigoid (MMP) conjunctival fibroblasts\n",
      "score = 100\n",
      "----------------------------\n",
      "CCGT: Metabolomic and dietary profiling in choroideremia to determine mechanistic, prognostic and therapeutic biomarkers\n",
      "Master: Metabolomic and dietary profiling in choroideremia to determine mechanistic, prognostic and therapeutic biomarkers.\n",
      "score = 100\n",
      "----------------------------\n",
      "CCGT: GlaucoMirs: MicroRNA-based therapeutics to treat ocular fibrosis in glaucoma.\n",
      "Master: GlaucoMirs: MicroRNA based therapeutics to treat ocular fibrosis in glaucoma\n",
      "score = 100\n",
      "----------------------------\n",
      "CCGT: Functional MRI as a Potential Predictive Tool in Leber Hereditary Optic Neuropathy\n",
      "Master: Functional MRI as a Potential Predictive Tool in Leber's Hereditary Optic Neuropathy\n",
      "score = 99\n",
      "----------------------------\n",
      "CCGT: Genetic control of iron levles in Birdshot uveitis\n",
      "Master: Genetic control of iron levels in Birdshot uveitis\n",
      "score = 98\n",
      "----------------------------\n",
      "CCGT: MOLECULAR MECHANISM OF OPSIN TRANSPORT AND ITS RELEVANCE TO PHOTORECEPTOR DEGENERATION \n",
      "Master: Molecular mechanism of opsin transport and its relevance to photoreceptor degeneration \n",
      "score = 100\n",
      "----------------------------\n",
      "CCGT: Binocular vision, visual function and pupil dynamics in people living with dementia: Exploring their relationships to rate of cognitive decline and structural changes within the brain\n",
      "Master: Binocular vision, visual function and pupil dynamics in people living with dementia: exploring their relationships to rate of cognitive decline and structural changes within the brain\n",
      "score = 100\n",
      "----------------------------\n"
     ]
    }
   ],
   "source": [
    "# try to match similar titles using fuzzywuzzy.process.extract\n",
    "for row in ccgt[ccgt['MasterID'].isnull()].index:\n",
    "    \n",
    "    result = process.extract(ccgt.loc[row,'Title'],\n",
    "                                  master['Project Title'],\n",
    "                                  limit=1)[0]\n",
    "    \n",
    "    matched_title = result[0]\n",
    "    match_score = result[1]\n",
    "    match_idx = result[2]\n",
    "    \n",
    "    if match_score>95:\n",
    "        print('CCGT:',ccgt.loc[row,'Title'])      \n",
    "        print('Master:',matched_title)\n",
    "        print('score =',match_score)\n",
    "        \n",
    "        ccgt.loc[row,'MasterID'] = master.loc[match_idx,'Grant Ref Unique']\n",
    "        print('----------------------------')"
   ]
  },
  {
   "cell_type": "code",
   "execution_count": 6,
   "metadata": {},
   "outputs": [
    {
     "name": "stdout",
     "output_type": "stream",
     "text": [
      "2 remaining CCGT entries without a match in Award Master:\n"
     ]
    },
    {
     "data": {
      "text/html": [
       "<div>\n",
       "<style scoped>\n",
       "    .dataframe tbody tr th:only-of-type {\n",
       "        vertical-align: middle;\n",
       "    }\n",
       "\n",
       "    .dataframe tbody tr th {\n",
       "        vertical-align: top;\n",
       "    }\n",
       "\n",
       "    .dataframe thead th {\n",
       "        text-align: right;\n",
       "    }\n",
       "</style>\n",
       "<table border=\"1\" class=\"dataframe\">\n",
       "  <thead>\n",
       "    <tr style=\"text-align: right;\">\n",
       "      <th></th>\n",
       "      <th>Lead Applicant Full Name</th>\n",
       "      <th>Title</th>\n",
       "      <th>Round</th>\n",
       "      <th>Organisation</th>\n",
       "    </tr>\n",
       "  </thead>\n",
       "  <tbody>\n",
       "    <tr>\n",
       "      <th>48</th>\n",
       "      <td>Dr Hannah Levis</td>\n",
       "      <td>Creation of bio-synthetic corneal endothelial ...</td>\n",
       "      <td>Project Grants - Full Application 2016</td>\n",
       "      <td>University of Liverpool</td>\n",
       "    </tr>\n",
       "    <tr>\n",
       "      <th>52</th>\n",
       "      <td>Dr Nina Milosavljevic</td>\n",
       "      <td>Quantifying the visual restoration potential o...</td>\n",
       "      <td>Early Career Investigator Awards - Full Applic...</td>\n",
       "      <td>University of Manchester</td>\n",
       "    </tr>\n",
       "  </tbody>\n",
       "</table>\n",
       "</div>"
      ],
      "text/plain": [
       "   Lead Applicant Full Name  \\\n",
       "48          Dr Hannah Levis   \n",
       "52    Dr Nina Milosavljevic   \n",
       "\n",
       "                                                Title  \\\n",
       "48  Creation of bio-synthetic corneal endothelial ...   \n",
       "52  Quantifying the visual restoration potential o...   \n",
       "\n",
       "                                                Round  \\\n",
       "48             Project Grants - Full Application 2016   \n",
       "52  Early Career Investigator Awards - Full Applic...   \n",
       "\n",
       "                Organisation  \n",
       "48   University of Liverpool  \n",
       "52  University of Manchester  "
      ]
     },
     "execution_count": 6,
     "metadata": {},
     "output_type": "execute_result"
    }
   ],
   "source": [
    "print(sum(ccgt['MasterID'].isnull()),'remaining CCGT entries without a match in Award Master:')\n",
    "ccgt.loc[ccgt['MasterID'].isnull(),\n",
    "         ['Lead Applicant Full Name','Title','Round','Organisation']]"
   ]
  },
  {
   "cell_type": "code",
   "execution_count": 7,
   "metadata": {},
   "outputs": [],
   "source": [
    "ccgt.set_index('MasterID',inplace=True)\n",
    "ccgt.to_excel('data/CCGrantTracker/CCGT_processed.xlsx')"
   ]
  }
 ],
 "metadata": {
  "kernelspec": {
   "display_name": "Python [conda env:Python3]",
   "language": "python",
   "name": "conda-env-Python3-py"
  },
  "language_info": {
   "codemirror_mode": {
    "name": "ipython",
    "version": 3
   },
   "file_extension": ".py",
   "mimetype": "text/x-python",
   "name": "python",
   "nbconvert_exporter": "python",
   "pygments_lexer": "ipython3",
   "version": "3.6.6"
  }
 },
 "nbformat": 4,
 "nbformat_minor": 2
}
