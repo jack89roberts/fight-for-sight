{
 "cells": [
  {
   "cell_type": "code",
   "execution_count": 8,
   "metadata": {},
   "outputs": [],
   "source": [
    "import pandas as pd\n",
    "import numpy as np\n",
    "\n",
    "import matplotlib.pyplot as plt\n",
    "%matplotlib inline\n",
    "\n",
    "from gensim.models.coherencemodel import CoherenceModel\n",
    "from gensim.models.ldamodel import LdaModel\n",
    "from gensim.models.ldamulticore import LdaMulticore\n",
    "from gensim.corpora.dictionary import Dictionary\n",
    "from gensim.models.phrases import Phrases, Phraser"
   ]
  },
  {
   "cell_type": "code",
   "execution_count": 9,
   "metadata": {},
   "outputs": [
    {
     "data": {
      "text/plain": [
       "pmid\n",
       "26266437    [study, vivo, pattern, ocular, surface, epithe...\n",
       "29249004    [leber, hereditary, optic, neuropathy, inherit...\n",
       "26109843    [background, acute, hemorrhagic, conjunctiviti...\n",
       "18591848    [year, old, woman, diagnosed, vogt, koyanagi, ...\n",
       "24319681    [purpose, evaluate, ability, frequency, doubli...\n",
       "Name: abstractText, dtype: object"
      ]
     },
     "metadata": {},
     "output_type": "display_data"
    }
   ],
   "source": [
    "abstracts = pd.read_pickle('data/EPMC/eye_in_new_keywords_ABSTRACTS_LEMMA.pkl')\n",
    "abstracts = abstracts.sample(2000)\n",
    "abstracts = abstracts.str.split()\n",
    "\n",
    "pmids = abstracts.index\n",
    "display(abstracts.head())"
   ]
  },
  {
   "cell_type": "code",
   "execution_count": 10,
   "metadata": {},
   "outputs": [],
   "source": [
    "bigram = Phraser(Phrases(abstracts, min_count=50))\n",
    "texts = [bigram[text] for text in abstracts]"
   ]
  },
  {
   "cell_type": "code",
   "execution_count": 11,
   "metadata": {},
   "outputs": [
    {
     "name": "stdout",
     "output_type": "stream",
     "text": [
      "Number of unique tokens: 686\n"
     ]
    }
   ],
   "source": [
    "# Create a dictionary representation of the documents.\n",
    "dictionary = Dictionary(texts)\n",
    "dictionary.filter_extremes(no_below=50, no_above=0.2)\n",
    "\n",
    "#texts = [filter(lambda x: x in dictionary.values(), t) for t in texts]\n",
    "\n",
    "\n",
    "print('Number of unique tokens: %d' % len(dictionary))"
   ]
  },
  {
   "cell_type": "code",
   "execution_count": 12,
   "metadata": {},
   "outputs": [
    {
     "name": "stdout",
     "output_type": "stream",
     "text": [
      "Number of documents: 2000\n"
     ]
    }
   ],
   "source": [
    "corpus = [dictionary.doc2bow(doc) for doc in texts]\n",
    "\n",
    "print('Number of documents: %d' % len(corpus))"
   ]
  },
  {
   "cell_type": "code",
   "execution_count": 13,
   "metadata": {
    "scrolled": false
   },
   "outputs": [
    {
     "data": {
      "text/plain": [
       "[(22,\n",
       "  '0.026*\"protein\" + 0.023*\"expression\" + 0.014*\"corneal\" + 0.012*\"increased\" + 0.011*\"level\" + 0.008*\"induced\" + 0.006*\"showed\" + 0.006*\"clinical\" + 0.006*\"activation\" + 0.006*\"beta\"'),\n",
       " (30,\n",
       "  '0.023*\"protein\" + 0.021*\"visual\" + 0.014*\"change\" + 0.011*\"expression\" + 0.011*\"response\" + 0.011*\"level\" + 0.009*\"increased\" + 0.008*\"decreased\" + 0.008*\"retinal\" + 0.007*\"age\"'),\n",
       " (2,\n",
       "  '0.016*\"subject\" + 0.016*\"retinal\" + 0.014*\"retina\" + 0.012*\"high\" + 0.010*\"mg\" + 0.009*\"injection\" + 0.009*\"day\" + 0.007*\"area\" + 0.007*\"response\" + 0.007*\"different\"'),\n",
       " (34,\n",
       "  '0.016*\"retinal\" + 0.011*\"visual\" + 0.010*\"mouse\" + 0.007*\"size\" + 0.007*\"ocular\" + 0.007*\"retina\" + 0.007*\"contrast\" + 0.007*\"longer\" + 0.006*\"association\" + 0.006*\"following\"'),\n",
       " (21,\n",
       "  '0.025*\"retinal\" + 0.009*\"gene\" + 0.008*\"different\" + 0.008*\"type\" + 0.008*\"increased\" + 0.008*\"expression\" + 0.008*\"laser\" + 0.008*\"function\" + 0.008*\"found\" + 0.007*\"retina\"'),\n",
       " (15,\n",
       "  '0.030*\"group\" + 0.013*\"outcome\" + 0.010*\"rat\" + 0.010*\"light\" + 0.010*\"ocular\" + 0.009*\"beta\" + 0.008*\"model\" + 0.008*\"mean\" + 0.008*\"high\" + 0.007*\"retinal\"'),\n",
       " (43,\n",
       "  '0.016*\"month\" + 0.014*\"mean\" + 0.013*\"time\" + 0.013*\"ocular\" + 0.012*\"iop\" + 0.011*\"glaucoma\" + 0.009*\"year\" + 0.009*\"drug\" + 0.008*\"data\" + 0.008*\"oct\"'),\n",
       " (52,\n",
       "  '0.019*\"image\" + 0.015*\"visual\" + 0.012*\"glaucoma\" + 0.010*\"diabetes\" + 0.009*\"model\" + 0.009*\"stimulus\" + 0.009*\"gene\" + 0.009*\"level\" + 0.009*\"found\" + 0.009*\"human\"'),\n",
       " (27,\n",
       "  '0.021*\"lesion\" + 0.018*\"expression\" + 0.017*\"mouse\" + 0.012*\"showed\" + 0.011*\"tissue\" + 0.009*\"clinical\" + 0.008*\"examination\" + 0.008*\"vivo\" + 0.007*\"protein\" + 0.007*\"receptor\"'),\n",
       " (8,\n",
       "  '0.044*\"group\" + 0.014*\"iop\" + 0.011*\"month\" + 0.010*\"pressure\" + 0.009*\"mm\" + 0.009*\"change\" + 0.009*\"year\" + 0.009*\"blood\" + 0.008*\"significantly\" + 0.008*\"membrane\"'),\n",
       " (40,\n",
       "  '0.021*\"group\" + 0.012*\"receptor\" + 0.010*\"significantly\" + 0.009*\"mm\" + 0.009*\"visual\" + 0.009*\"day\" + 0.008*\"retinal\" + 0.008*\"cornea\" + 0.008*\"response\" + 0.007*\"ocular\"'),\n",
       " (16,\n",
       "  '0.017*\"test\" + 0.013*\"drug\" + 0.012*\"glaucoma\" + 0.011*\"ocular\" + 0.010*\"ml\" + 0.009*\"group\" + 0.009*\"control\" + 0.009*\"mouse\" + 0.008*\"compared\" + 0.008*\"used\"'),\n",
       " (17,\n",
       "  '0.018*\"activity\" + 0.010*\"visual\" + 0.009*\"mg\" + 0.009*\"ocular\" + 0.008*\"human\" + 0.008*\"month\" + 0.008*\"receptor\" + 0.007*\"change\" + 0.007*\"induced\" + 0.007*\"protein\"'),\n",
       " (25,\n",
       "  '0.018*\"retinal\" + 0.011*\"group\" + 0.010*\"therapy\" + 0.009*\"visual\" + 0.008*\"normal\" + 0.008*\"month\" + 0.008*\"role\" + 0.008*\"surgery\" + 0.008*\"significantly\" + 0.007*\"oct\"'),\n",
       " (6,\n",
       "  '0.015*\"lens\" + 0.013*\"retinal\" + 0.011*\"induced\" + 0.010*\"mutation\" + 0.010*\"significantly\" + 0.009*\"iop\" + 0.009*\"compared\" + 0.009*\"ocular\" + 0.009*\"increase\" + 0.008*\"week\"'),\n",
       " (50,\n",
       "  '0.029*\"group\" + 0.023*\"thickness\" + 0.020*\"choroidal\" + 0.014*\"day\" + 0.014*\"macular\" + 0.012*\"surgery\" + 0.011*\"mean\" + 0.010*\"body\" + 0.008*\"complication\" + 0.008*\"change\"'),\n",
       " (39,\n",
       "  '0.016*\"group\" + 0.014*\"month\" + 0.013*\"clinical\" + 0.012*\"child\" + 0.010*\"visual\" + 0.009*\"mean\" + 0.009*\"year\" + 0.009*\"diagnosis\" + 0.009*\"showed\" + 0.008*\"cataract\"'),\n",
       " (38,\n",
       "  '0.016*\"gene\" + 0.016*\"corneal\" + 0.015*\"tumor\" + 0.010*\"symptom\" + 0.010*\"observed\" + 0.008*\"found\" + 0.008*\"without\" + 0.008*\"group\" + 0.008*\"use\" + 0.007*\"control\"'),\n",
       " (11,\n",
       "  '0.010*\"increase\" + 0.010*\"drug\" + 0.009*\"year\" + 0.009*\"rate\" + 0.009*\"antibody\" + 0.008*\"human\" + 0.008*\"new\" + 0.008*\"outcome\" + 0.008*\"assay\" + 0.007*\"serum\"'),\n",
       " (48,\n",
       "  '0.024*\"acid\" + 0.013*\"induced\" + 0.010*\"ocular\" + 0.009*\"anti\" + 0.008*\"model\" + 0.008*\"retinal\" + 0.008*\"prevalence\" + 0.007*\"control\" + 0.007*\"blindness\" + 0.007*\"research\"')]"
      ]
     },
     "execution_count": 13,
     "metadata": {},
     "output_type": "execute_result"
    }
   ],
   "source": [
    "# Set parameters.\n",
    "num_topics = 55 \n",
    "\n",
    "# Make a index to word dictionary.\n",
    "temp = dictionary[0]  # only to \"load\" the dictionary.\n",
    "id2word = dictionary.id2token\n",
    "\n",
    "lda_model = LdaModel(corpus=corpus, \n",
    "                     id2word=id2word, \n",
    "                     num_topics=num_topics)\n",
    "\n",
    "# Print the Keyword in the 5 topics\n",
    "lda_model.print_topics()"
   ]
  },
  {
   "cell_type": "code",
   "execution_count": 16,
   "metadata": {},
   "outputs": [
    {
     "name": "stdout",
     "output_type": "stream",
     "text": [
      "\n",
      "Coherence Score:  -2.403628552337365\n"
     ]
    }
   ],
   "source": [
    "# Compute Coherence Score using c_v\n",
    "coherence_model_lda = CoherenceModel(model=lda_model, \n",
    "                                     corpus=corpus, \n",
    "                                     dictionary=dictionary, \n",
    "                                     coherence='u_mass')\n",
    "coherence_lda = coherence_model_lda.get_coherence()\n",
    "print('\\nCoherence Score: ', coherence_lda)"
   ]
  },
  {
   "cell_type": "code",
   "execution_count": null,
   "metadata": {},
   "outputs": [],
   "source": [
    "def compute_coherence_values(dictionary, corpus, texts, n_topics_to_try):\n",
    "    \"\"\"\n",
    "    Compute c_v coherence for various number of topics\n",
    "\n",
    "    Parameters:\n",
    "    ----------\n",
    "    dictionary : Gensim dictionary\n",
    "    corpus : Gensim corpus\n",
    "    texts : List of input texts\n",
    "    limit : Max num of topics\n",
    "\n",
    "    Returns:\n",
    "    -------\n",
    "    model_list : List of LDA topic models\n",
    "    coherence_values : Coherence values corresponding to the LDA model with respective number of topics\n",
    "    \"\"\"\n",
    "    coherence_values = []\n",
    "    for num_topics in n_topics_to_try:\n",
    "        model=LdaModel(corpus=corpus, id2word=dictionary, num_topics=num_topics)\n",
    "        coherencemodel = CoherenceModel(model=model, texts=texts, dictionary=dictionary, coherence='c_v')\n",
    "        coherence_values.append(coherencemodel.get_coherence())\n",
    "\n",
    "    return model_list, coherence_values\n",
    "\n",
    "n_topics_to_try = np.arange(5,55,5)\n",
    "model_list, coherence_values = compute_coherence_values(dictionary, corpus, texts, n_topics_to_try)\n",
    "\n",
    "plt.plot(n_topics_to_try, coherence_values)\n",
    "plt.xlabel('Num Topics')\n",
    "plt.ylabel('Coherence score')\n",
    "plt.savefig('data/LDA_Gensim_Coherence.png')"
   ]
  }
 ],
 "metadata": {
  "kernelspec": {
   "display_name": "Python [conda env:Python3]",
   "language": "python",
   "name": "conda-env-Python3-py"
  },
  "language_info": {
   "codemirror_mode": {
    "name": "ipython",
    "version": 3
   },
   "file_extension": ".py",
   "mimetype": "text/x-python",
   "name": "python",
   "nbconvert_exporter": "python",
   "pygments_lexer": "ipython3",
   "version": "3.6.6"
  }
 },
 "nbformat": 4,
 "nbformat_minor": 2
}
