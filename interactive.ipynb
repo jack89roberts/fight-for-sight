{
 "cells": [
  {
   "cell_type": "code",
   "execution_count": 1,
   "metadata": {},
   "outputs": [],
   "source": [
    "import ipywidgets as widgets\n",
    "from IPython.display import display\n",
    "\n",
    "from matplotlib import colors\n",
    "import matplotlib.pyplot as plt\n",
    "%matplotlib inline\n",
    "\n",
    "import pandas as pd\n",
    "\n",
    "from shutil import copyfile"
   ]
  },
  {
   "cell_type": "code",
   "execution_count": 2,
   "metadata": {},
   "outputs": [],
   "source": [
    "ffs_green = '#77b800'\n",
    "ffs_blue = '#009fe3'\n",
    "ffs_pink = '#e6007e'\n",
    "ffs_yellow = '#fecc00'\n",
    "ffs_cmap = colors.ListedColormap([ffs_green,ffs_blue,ffs_pink,ffs_yellow])"
   ]
  },
  {
   "cell_type": "code",
   "execution_count": 3,
   "metadata": {},
   "outputs": [],
   "source": [
    "def split_comma_separated_index(series,delim=','):\n",
    "    '''split comma separated items in series index, assign 1/n_names\n",
    "    of value/count to each individual item.'''\n",
    "    \n",
    "    if series.dtype == 'object':\n",
    "        # split grants with multiple institutions\n",
    "        for row in series.iteritems():\n",
    "            name = row[0]\n",
    "            amount = row[1]\n",
    "\n",
    "            names = name.split(delim)\n",
    "            n_names = len(names)\n",
    "            if n_names>1:\n",
    "                series = series.drop(name)\n",
    "\n",
    "                for idx in names:\n",
    "                    idx = idx.strip()\n",
    "                    if series.index.contains(idx):\n",
    "                        series[idx] += amount/n_names\n",
    "                    else:\n",
    "                        series = series.append(pd.Series([amount/n_names],index=[idx]))\n",
    "            \n",
    "    return series"
   ]
  },
  {
   "cell_type": "code",
   "execution_count": 4,
   "metadata": {},
   "outputs": [],
   "source": [
    "master = pd.read_excel('data/combined.xlsx')\n",
    "master.set_index('MasterID',inplace=True)\n",
    "master['Start year'] = master['Start date'].dt.year"
   ]
  },
  {
   "cell_type": "code",
   "execution_count": 5,
   "metadata": {
    "scrolled": false
   },
   "outputs": [
    {
     "data": {
      "application/vnd.jupyter.widget-view+json": {
       "model_id": "6c286d7d6b344680bcf4b6b1401c7aed",
       "version_major": 2,
       "version_minor": 0
      },
      "text/plain": [
       "MasterFilter(children=(Checkbox(value=False, description='Filter 1'), Dropdown(description='Column', index=12,…"
      ]
     },
     "metadata": {},
     "output_type": "display_data"
    },
    {
     "data": {
      "application/vnd.jupyter.widget-view+json": {
       "model_id": "c0ebc6a019964ba29584c56a599b31a7",
       "version_major": 2,
       "version_minor": 0
      },
      "text/plain": [
       "MasterFilter(children=(Checkbox(value=False, description='Filter 2'), Dropdown(description='Column', index=12,…"
      ]
     },
     "metadata": {},
     "output_type": "display_data"
    },
    {
     "data": {
      "application/vnd.jupyter.widget-view+json": {
       "model_id": "87016bc77b5d422e950fef04f9074f63",
       "version_major": 2,
       "version_minor": 0
      },
      "text/plain": [
       "MasterFilter(children=(Checkbox(value=False, description='Filter 3'), Dropdown(description='Column', index=12,…"
      ]
     },
     "metadata": {},
     "output_type": "display_data"
    }
   ],
   "source": [
    "class MasterFilter(widgets.HBox):\n",
    "    \n",
    "    def __init__(self, name = 'Filter 1'):\n",
    "        super().__init__([])\n",
    "        self.on = widgets.Checkbox(description=name,value=False)\n",
    "        self.col = widgets.Dropdown(options=master.columns,description='Column',value='Disease Area')\n",
    "        self.val  = widgets.Dropdown(options=sorted(master['Disease Area'].dropna().unique()),description='Value')\n",
    "        self.children = [self.on, self.col, self.val]\n",
    "        \n",
    "        self.col.observe(self.col_changed)\n",
    "        #self.on.observe(self.enable_changed)\n",
    "        \n",
    "    def col_changed(self,trait):\n",
    "        if trait['name']=='label':\n",
    "            self.val.options = sorted(master[trait['new']].dropna().unique())\n",
    "\n",
    "class FilterList():\n",
    "    def __init__(self,filters):\n",
    "        self.filters = filters\n",
    "    \n",
    "    def get_filtered_master(self):\n",
    "        filtered_master = master.copy()\n",
    "\n",
    "        for f in self.filters:\n",
    "            if f.on.value==True:\n",
    "                col = f.col.value\n",
    "                val = f.val.value\n",
    "                filtered_master = filtered_master[filtered_master[col]==val]\n",
    "                \n",
    "        return filtered_master\n",
    "        \n",
    "filter1 = MasterFilter('Filter 1')\n",
    "filter2 = MasterFilter('Filter 2')\n",
    "filter3 = MasterFilter('Filter 3')\n",
    "\n",
    "display(filter1,filter2,filter3)\n",
    "\n",
    "filter_list = FilterList([filter1,filter2,filter3])"
   ]
  },
  {
   "cell_type": "code",
   "execution_count": 6,
   "metadata": {
    "scrolled": false
   },
   "outputs": [
    {
     "data": {
      "text/plain": [
       "Grant Type\n",
       "Project                14530713.06\n",
       "PhD                     6903905.00\n",
       "Basic Fellowship        2791600.00\n",
       "Other                   2515534.38\n",
       "Small Grant             1739826.94\n",
       "Clinical Fellowship     1358675.00\n",
       "Name: Fund Amount, dtype: float64"
      ]
     },
     "metadata": {},
     "output_type": "display_data"
    },
    {
     "data": {
      "image/png": "[encoded data removed]",
      "text/plain": [
       "<Figure size 720x360 with 1 Axes>"
      ]
     },
     "metadata": {
      "needs_background": "light"
     },
     "output_type": "display_data"
    },
    {
     "data": {
      "application/vnd.jupyter.widget-view+json": {
       "model_id": "e51b4751ddfb46fa979517901b3a3a41",
       "version_major": 2,
       "version_minor": 0
      },
      "text/plain": [
       "VBox(children=(Dropdown(description='Plot', index=8, options=('Holder', 'Email', 'Institution', 'PhD Student',…"
      ]
     },
     "metadata": {},
     "output_type": "display_data"
    },
    {
     "data": {
      "application/vnd.jupyter.widget-view+json": {
       "model_id": "bd2d666a44cd4560957254abfea7f895",
       "version_major": 2,
       "version_minor": 0
      },
      "text/plain": [
       "HBox(children=(Text(value='tmp', description='File Name:', placeholder='Type something'), Button(description='…"
      ]
     },
     "metadata": {},
     "output_type": "display_data"
    }
   ],
   "source": [
    "def plot(var_to_group, var_to_plot, stat, sort, ngroups, orientation, print_values,\n",
    "         width, height):\n",
    "    \n",
    "    filtered_master = filter_list.get_filtered_master()\n",
    "    plot_data = filtered_master.groupby(var_to_group)[var_to_plot].agg(stat)\n",
    "    plot_data = split_comma_separated_index(plot_data)\n",
    "    \n",
    "    if sort:\n",
    "        plot_data = plot_data.sort_values(ascending=False)\n",
    "    \n",
    "    if stat=='value_counts':\n",
    "        plot_data = plot_data.unstack(fill_value=0)\n",
    "    \n",
    "    ax = plt.figure(figsize=(width, height)).gca()\n",
    "    \n",
    "    if orientation=='Horizontal':\n",
    "        plot_data.head(ngroups).plot.barh(ax=ax,fontsize=12)\n",
    "        plt.ylabel(var_to_group, fontsize=14)\n",
    "        plt.xlabel(var_to_plot+' '+stat, fontsize=14)\n",
    "    else:\n",
    "        plot_data.head(ngroups).plot.bar(ax=ax,fontsize=12)\n",
    "        plt.xlabel(var_to_group, fontsize=14)\n",
    "        plt.ylabel(var_to_plot+' '+stat, fontsize=14)\n",
    "    \n",
    "    plt.tight_layout()\n",
    "    plt.savefig('plots/tmp.png',dpi=300)\n",
    "    \n",
    "    plot_data.to_excel('plots/tmp.xlsx')\n",
    "    \n",
    "    if print_values:\n",
    "        display(plot_data)\n",
    "    \n",
    "dropdown_group = widgets.Dropdown(options=master.columns,description='Grouped By',value='Grant Type')\n",
    "dropdown_plot = widgets.Dropdown(options=master.columns,description='Plot',value='Fund Amount')\n",
    "dropdown_stat = widgets.Dropdown(options=('count','sum','mean','min','max','value_counts'),description='Statistic',value='sum')\n",
    "checkbox_sort = widgets.Checkbox(description='Sort Values',value=True)\n",
    "checkbox_print = widgets.Checkbox(description='Print Values',value=True)\n",
    "\n",
    "widget_ngroups = widgets.BoundedIntText(\n",
    "                    value=30,\n",
    "                    min=5,\n",
    "                    max=100,\n",
    "                    step=1,\n",
    "                    description='No. Bars',\n",
    "                )\n",
    "\n",
    "widget_width = widgets.BoundedIntText(\n",
    "                    value=10,\n",
    "                    min=5,\n",
    "                    max=20,\n",
    "                    step=1,\n",
    "                    description='Width',\n",
    "                )\n",
    "widget_height = widgets.BoundedIntText(\n",
    "                    value=5,\n",
    "                    min=5,\n",
    "                    max=20,\n",
    "                    step=1,\n",
    "                    description='Height',\n",
    "                )\n",
    "\n",
    "widget_orientation = widgets.ToggleButtons(\n",
    "    options=['Vertical', 'Horizontal'],\n",
    "    description='Orientation:',\n",
    ")\n",
    "\n",
    "\n",
    "interactive_plot = widgets.interactive_output(\n",
    "    plot,\n",
    "    {'var_to_group': dropdown_group, \n",
    "     'var_to_plot': dropdown_plot, \n",
    "     'stat':dropdown_stat, \n",
    "     'sort':checkbox_sort,\n",
    "     'ngroups':widget_ngroups,\n",
    "     'orientation':widget_orientation,\n",
    "     'print_values':checkbox_print,\n",
    "     'width': widget_width,\n",
    "     'height': widget_height}\n",
    ")\n",
    "\n",
    "display(widgets.VBox([dropdown_plot,\n",
    "        dropdown_group,\n",
    "        dropdown_stat,\n",
    "        widget_ngroups,\n",
    "        widget_orientation,\n",
    "        widgets.HBox([widget_width,widget_height]),\n",
    "        checkbox_sort,\n",
    "        checkbox_print,\n",
    "        interactive_plot]))\n",
    "\n",
    "widget_fname = widgets.Text(\n",
    "                    value='tmp',\n",
    "                    placeholder='Type something',\n",
    "                    description='File Name:',\n",
    "                )\n",
    "\n",
    "button_save = widgets.Button(description='Save Plot')\n",
    "display(widgets.HBox([widget_fname, button_save]))\n",
    "\n",
    "def on_button_clicked(b):\n",
    "    copyfile('plots/tmp.png', 'plots/'+widget_fname.value+'.png')\n",
    "    copyfile('plots/tmp.xlsx', 'plots/'+widget_fname.value+'.xlsx')\n",
    "\n",
    "button_save.on_click(on_button_clicked)"
   ]
  },
  {
   "cell_type": "code",
   "execution_count": null,
   "metadata": {},
   "outputs": [],
   "source": []
  },
  {
   "cell_type": "code",
   "execution_count": null,
   "metadata": {},
   "outputs": [],
   "source": []
  }
 ],
 "metadata": {
  "kernelspec": {
   "display_name": "Python [conda env:Python3]",
   "language": "python",
   "name": "conda-env-Python3-py"
  },
  "language_info": {
   "codemirror_mode": {
    "name": "ipython",
    "version": 3
   },
   "file_extension": ".py",
   "mimetype": "text/x-python",
   "name": "python",
   "nbconvert_exporter": "python",
   "pygments_lexer": "ipython3",
   "version": "3.6.6"
  }
 },
 "nbformat": 4,
 "nbformat_minor": 2
}
